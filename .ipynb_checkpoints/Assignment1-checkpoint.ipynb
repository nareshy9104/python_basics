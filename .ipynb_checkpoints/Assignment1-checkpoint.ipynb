{
 "cells": [
  {
   "cell_type": "code",
   "execution_count": 2,
   "id": "2cb21d46",
   "metadata": {},
   "outputs": [
    {
     "name": "stdout",
     "output_type": "stream",
     "text": [
      "Please enter the number5\n",
      "The square of 5 is 25\n"
     ]
    }
   ],
   "source": [
    "num1=eval(input(\"Please enter the number\"))\n",
    "sq_num=num1**2\n",
    "print(\"The square of {} is {}\".format(num1,sq_num),sep=\".\")"
   ]
  },
  {
   "cell_type": "code",
   "execution_count": null,
   "id": "5b956c33",
   "metadata": {},
   "outputs": [],
   "source": [
    "#I have modified this code======================================="
   ]
  },
  {
   "cell_type": "markdown",
   "id": "4b6e6ba5",
   "metadata": {},
   "source": [
    "Ask the user to enter a number x. Use the sep optional argument to\n",
    "print out x, 2x, 3x, 4x, and 5x, each separated by three dashes, like\n",
    "below.\n",
    "Enter a number: 7\n",
    "7---14---21---28---35"
   ]
  },
  {
   "cell_type": "code",
   "execution_count": 3,
   "id": "bab09513",
   "metadata": {},
   "outputs": [
    {
     "name": "stdout",
     "output_type": "stream",
     "text": [
      "Please enter the number5\n",
      "5---10---15---20---25\n"
     ]
    }
   ],
   "source": [
    "num2 = eval(input(\"Please enter the number\"))\n",
    "print(num2,2*num2,3*num2,4*num2,5*num2,sep=\"---\")"
   ]
  },
  {
   "cell_type": "markdown",
   "id": "054491d7",
   "metadata": {},
   "source": [
    "###Write a program that asks the user for a weight in kilograms and\n",
    "###converts it to pounds. There are 2.2 pounds in a kilogram."
   ]
  },
  {
   "cell_type": "code",
   "execution_count": 4,
   "id": "90b85548",
   "metadata": {},
   "outputs": [
    {
     "name": "stdout",
     "output_type": "stream",
     "text": [
      "please enter the weight in Kgs7\n",
      "Your weight in pounds is 15.400000000000002\n"
     ]
    }
   ],
   "source": [
    "weight=eval(input(\"please enter the weight in Kgs\"))\n",
    "pnd = 2.2*weight\n",
    "print(\"Your weight in pounds is {}\".format(pnd))"
   ]
  },
  {
   "cell_type": "markdown",
   "id": "92de17c5",
   "metadata": {},
   "source": [
    "###Write a program that asks the user to enter three numbers (use three\n",
    "###separate input statements).Create variables called total and average\n",
    "###that hold the sum and average of the three numbers and print out the\n",
    "###values of total and average."
   ]
  },
  {
   "cell_type": "code",
   "execution_count": 3,
   "id": "b906d9e1",
   "metadata": {},
   "outputs": [
    {
     "name": "stdout",
     "output_type": "stream",
     "text": [
      "please enter number1: 100\n",
      "please enter number2: 200\n",
      "please enter number3: 300\n",
      "sum of the three numbers is 600 and the average is 200.0\n"
     ]
    }
   ],
   "source": [
    "num1=eval(input(\"please enter number1: \"))\n",
    "num2=eval(input(\"please enter number2: \"))\n",
    "num3=eval(input(\"please enter number3: \"))\n",
    "sum1=num1+num2+num3\n",
    "avg=(num1+num2+num3)/3\n",
    "print(\"sum of the three numbers is {} and the average is {}\".format(sum1,avg))"
   ]
  },
  {
   "cell_type": "markdown",
   "id": "daea6b26",
   "metadata": {},
   "source": [
    "###5. A lot of cell phones have tip calculators. Write one. Ask the user for\n",
    "###the price of the meal and the percent tip they want to leave. Then\n",
    "###print both the tip amount and the total bill with the tip included."
   ]
  },
  {
   "cell_type": "code",
   "execution_count": 5,
   "id": "c75504a2",
   "metadata": {},
   "outputs": [
    {
     "name": "stdout",
     "output_type": "stream",
     "text": [
      "please enter the price of the meal1000\n",
      "please enter the percentage of the tip you want to offer7\n",
      "Total bill is 1070.0 and the tip amount is 70.0\n"
     ]
    }
   ],
   "source": [
    "price=eval(input(\"please enter the price of the meal\"))\n",
    "tip_per=eval(input(\"please enter the percentage of the tip you want to offer\"))\n",
    "tip_amount=(price/100)*tip_per\n",
    "total_bill=price+tip_amount\n",
    "print(\"Total bill is {} and the tip amount is {}\".format(total_bill,tip_amount))"
   ]
  },
  {
   "cell_type": "code",
   "execution_count": null,
   "id": "b4e28f52",
   "metadata": {},
   "outputs": [],
   "source": []
  }
 ],
 "metadata": {
  "kernelspec": {
   "display_name": "Python 3 (ipykernel)",
   "language": "python",
   "name": "python3"
  },
  "language_info": {
   "codemirror_mode": {
    "name": "ipython",
    "version": 3
   },
   "file_extension": ".py",
   "mimetype": "text/x-python",
   "name": "python",
   "nbconvert_exporter": "python",
   "pygments_lexer": "ipython3",
   "version": "3.11.3"
  }
 },
 "nbformat": 4,
 "nbformat_minor": 5
}
